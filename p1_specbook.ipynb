{
 "cells": [
  {
   "metadata": {
    "ExecuteTime": {
     "end_time": "2025-06-26T05:55:47.820857Z",
     "start_time": "2025-06-26T05:55:47.810091Z"
    }
   },
   "cell_type": "code",
   "source": [
    "import getpass\n",
    "import os\n",
    "\n",
    "try:\n",
    "    # load environment variables from .env file (requires `python-dotenv`)\n",
    "    from dotenv import load_dotenv\n",
    "\n",
    "    load_dotenv()\n",
    "except ImportError:\n",
    "    pass"
   ],
   "id": "bca6e370bf457444",
   "outputs": [],
   "execution_count": 8
  },
  {
   "metadata": {
    "ExecuteTime": {
     "end_time": "2025-06-26T05:55:48.426649Z",
     "start_time": "2025-06-26T05:55:48.422009Z"
    }
   },
   "cell_type": "code",
   "source": [
    "os.environ[\"LANGSMITH_TRACING\"] = \"true\"\n",
    "if \"LANGSMITH_API_KEY\" not in os.environ:\n",
    "    os.environ[\"LANGSMITH_API_KEY\"] = getpass.getpass(\n",
    "        prompt=\"Enter your LangSmith API key (optional): \"\n",
    "    )\n",
    "if \"LANGSMITH_PROJECT\" not in os.environ:\n",
    "    os.environ[\"LANGSMITH_PROJECT\"] = getpass.getpass(\n",
    "        prompt='Enter your LangSmith Project Name (default = \"default\"): '\n",
    "    )\n",
    "    if not os.environ.get(\"LANGSMITH_PROJECT\"):\n",
    "        os.environ[\"LANGSMITH_PROJECT\"] = \"default\""
   ],
   "id": "895458aef02d7811",
   "outputs": [],
   "execution_count": 9
  },
  {
   "metadata": {
    "ExecuteTime": {
     "end_time": "2025-06-26T05:55:51.691117Z",
     "start_time": "2025-06-26T05:55:49.395725Z"
    }
   },
   "cell_type": "code",
   "source": [
    "import getpass\n",
    "import os\n",
    "\n",
    "if not os.environ.get(\"OPENAI_API_KEY\"):\n",
    "    os.environ[\"OPENAI_API_KEY\"] = getpass.getpass(\"Enter API key for OpenAI: \")\n",
    "\n",
    "from langchain.chat_models import init_chat_model\n",
    "\n",
    "model = init_chat_model(\"gpt-4o-mini\", model_provider=\"openai\")"
   ],
   "id": "18b2055572e46772",
   "outputs": [],
   "execution_count": 10
  },
  {
   "metadata": {
    "ExecuteTime": {
     "end_time": "2025-06-26T05:55:51.709293Z",
     "start_time": "2025-06-26T05:55:51.704643Z"
    }
   },
   "cell_type": "code",
   "source": [
    "import csv\n",
    "\n",
    "product_urls = []\n",
    "\n",
    "# Open the CSV file\n",
    "with open('specbook.csv', 'r', newline='') as csvfile:\n",
    "    # Create a csv.reader object\n",
    "    reader = csv.reader(csvfile)\n",
    "\n",
    "    # Iterate over rows and print them\n",
    "    for row in reader:\n",
    "        if row[1]:\n",
    "            product_urls.append(row[1])"
   ],
   "id": "ce86d42adcc27e4",
   "outputs": [],
   "execution_count": 11
  },
  {
   "metadata": {
    "ExecuteTime": {
     "end_time": "2025-06-26T05:59:04.942220Z",
     "start_time": "2025-06-26T05:58:25.523191Z"
    }
   },
   "cell_type": "code",
   "source": [
    "import requests\n",
    "\n",
    "# fetch urls\n",
    "html_pages = []\n",
    "\n",
    "# Without headers, website responds with 403 b/c it suspects you're a bot\n",
    "headers = {\n",
    "    \"User-Agent\": \"Mozilla/5.0 (Windows NT 10.0; Win64; x64) AppleWebKit/537.36 (KHTML, like Gecko) Chrome/115.0.0.0 Safari/537.36\"\n",
    "}\n",
    "\n",
    "for url in product_urls:\n",
    "    html = requests.get(url, headers=headers)\n",
    "    html_pages.append(html)"
   ],
   "id": "439db0e45594f123",
   "outputs": [],
   "execution_count": 14
  },
  {
   "metadata": {
    "ExecuteTime": {
     "end_time": "2025-06-26T06:00:02.483692Z",
     "start_time": "2025-06-26T06:00:02.480624Z"
    }
   },
   "cell_type": "code",
   "source": [
    "print(len(product_urls))\n",
    "print(len(html_pages))"
   ],
   "id": "59d790b23b98ad2c",
   "outputs": [
    {
     "name": "stdout",
     "output_type": "stream",
     "text": [
      "87\n",
      "87\n"
     ]
    }
   ],
   "execution_count": 15
  },
  {
   "cell_type": "code",
   "id": "initial_id",
   "metadata": {
    "collapsed": true,
    "ExecuteTime": {
     "end_time": "2025-06-26T06:00:23.679293Z",
     "start_time": "2025-06-26T06:00:18.698122Z"
    }
   },
   "source": [
    "from bs4 import BeautifulSoup\n",
    "\n",
    "html_soups = []\n",
    "\n",
    "for html in html_pages:\n",
    "    soup = BeautifulSoup(html.text, \"html.parser\")\n",
    "    html_soups.append(soup)"
   ],
   "outputs": [],
   "execution_count": 16
  },
  {
   "metadata": {
    "ExecuteTime": {
     "end_time": "2025-06-26T06:01:16.074011Z",
     "start_time": "2025-06-26T06:01:15.240576Z"
    }
   },
   "cell_type": "code",
   "source": [
    "REMOVE_TAGS = [\n",
    "    \"script\", \"style\", \"noscript\", \"svg\", \"footer\", \"header\",\n",
    "    \"nav\", \"form\", \"iframe\", \"aside\", \"canvas\", \"button\", \"input\", \"select\", \"option\"\n",
    "]\n",
    "\n",
    "GARBAGE_KEYWORDS = [\"cookie\", \"newsletter\", \"subscribe\", \"banner\", \"social\", \"share\", \"advert\"]\n",
    "\n",
    "preprocessed_html = []\n",
    "\n",
    "for soup in html_soups:\n",
    "\n",
    "    # Remove noise tags\n",
    "    for tag in soup(REMOVE_TAGS):\n",
    "        tag.decompose()\n",
    "\n",
    "    # # Remove elements with garbage classes/ids\n",
    "    # for el in soup.find_all(attrs={\"class\": True}):\n",
    "    #     cls = \" \".join(el.get(\"class\"))\n",
    "    #     if any(kw in cls.lower() for kw in GARBAGE_KEYWORDS):\n",
    "    #         el.decompose()\n",
    "    #\n",
    "    # for el in soup.find_all(attrs={\"id\": True}):\n",
    "    #     id_ = el.get(\"id\")\n",
    "    #     if id_ and any(kw in id_.lower() for kw in GARBAGE_KEYWORDS):\n",
    "    #         el.decompose()\n",
    "\n",
    "    # Extract visible text\n",
    "    text = soup.get_text(separator=\"\\n\", strip=True)\n",
    "    text_lines = [line.strip() for line in text.splitlines() if line.strip()]\n",
    "    visible_text = \"\\n\".join(text_lines)\n",
    "\n",
    "    # Extract metadata\n",
    "    metadata = {\n",
    "        tag.get(\"property\") or tag.get(\"name\"): tag.get(\"content\")\n",
    "        for tag in soup.find_all(\"meta\")\n",
    "        if tag.get(\"content\")\n",
    "    }\n",
    "\n",
    "    # Extract images with alt text\n",
    "    images = []\n",
    "    for img in soup.find_all(\"img\"):\n",
    "        src = img.get(\"src\")\n",
    "        alt = img.get(\"alt\", \"\").strip()\n",
    "        if src:\n",
    "            images.append({\"src\": src, \"alt\": alt})\n",
    "\n",
    "    preprocessed_html.append({\n",
    "        \"title\": soup.title.string.strip() if soup.title and soup.title.string else \"\",\n",
    "        \"metadata\": metadata,\n",
    "        \"text\": visible_text,\n",
    "        \"images\": images\n",
    "    })\n"
   ],
   "id": "89d160c693f992d9",
   "outputs": [],
   "execution_count": 17
  },
  {
   "metadata": {
    "ExecuteTime": {
     "end_time": "2025-06-26T06:05:42.691826Z",
     "start_time": "2025-06-26T06:05:42.682693Z"
    }
   },
   "cell_type": "code",
   "source": [
    "import json\n",
    "# Max characters after pre-process\n",
    "print(max([len(json.dumps(x)) for x in preprocessed_html]))\n",
    "\n",
    "# with open('saved_product_pages.json', 'w') as json_file:\n",
    "#     json.dump(preprocessed_html, json_file)\n",
    "\n",
    "# with open('saved_product_pages.json', 'r') as json_file:\n",
    "#     preprocessed_html = json.load(json_file)"
   ],
   "id": "c84931487b0b8423",
   "outputs": [
    {
     "name": "stdout",
     "output_type": "stream",
     "text": [
      "25048\n"
     ]
    }
   ],
   "execution_count": 26
  },
  {
   "metadata": {
    "ExecuteTime": {
     "end_time": "2025-06-26T06:36:53.407480Z",
     "start_time": "2025-06-26T06:36:53.282796Z"
    }
   },
   "cell_type": "code",
   "source": [
    "from langchain_core.prompts import ChatPromptTemplate\n",
    "\n",
    "\n",
    "system_template = \"\"\"\n",
    "You are a helpful architectural assistant.\n",
    "Extract structured product information relevant for an architect's specification book from the following pre-processed html product pages.\n",
    "If you are not 99.9% sure that the information is correct, return the value with the highest probability, including the probability in the value field.\n",
    "\n",
    "TITLE:\n",
    "data['title']\n",
    "\n",
    "METADATA:\n",
    "data['metadata']\n",
    "\n",
    "TEXT CONTENT:\n",
    "data['text']\n",
    "\n",
    "IMAGES:\n",
    "data['images']\n",
    "\n",
    "Return a JSON object with fields from data. You **don’t add extra formatting instructions yourself**\n",
    "- image_url\n",
    "- type\n",
    "- descsription\n",
    "- model_no\n",
    "\n",
    "data:\n",
    "{data}\n",
    "\"\"\"\n",
    "\n",
    "prompt_template = ChatPromptTemplate.from_messages(\n",
    "    [(\"system\", system_template)]\n",
    ")\n",
    "\n",
    "prompts = [\n",
    "    prompt_template.invoke({\"data\", json.dumps(webpage)}) for webpage in preprocessed_html\n",
    "]"
   ],
   "id": "d7e31b34e3d2eab4",
   "outputs": [],
   "execution_count": 50
  },
  {
   "metadata": {
    "ExecuteTime": {
     "end_time": "2025-06-26T06:36:55.174064Z",
     "start_time": "2025-06-26T06:36:55.170885Z"
    }
   },
   "cell_type": "code",
   "source": "msgs = []",
   "id": "13e0dbd526326c51",
   "outputs": [],
   "execution_count": 51
  },
  {
   "metadata": {
    "ExecuteTime": {
     "end_time": "2025-06-26T06:37:06.727664Z",
     "start_time": "2025-06-26T06:36:55.343168Z"
    }
   },
   "cell_type": "code",
   "source": [
    "for i in range(3):\n",
    "    msgs.append(model.invoke(prompts[i+1]))"
   ],
   "id": "e16ef603d4ffe9c7",
   "outputs": [],
   "execution_count": 52
  },
  {
   "metadata": {
    "ExecuteTime": {
     "end_time": "2025-06-26T06:37:17.233429Z",
     "start_time": "2025-06-26T06:37:17.229863Z"
    }
   },
   "cell_type": "code",
   "source": "print(msgs[0].content)",
   "id": "7f101a93afa07efb",
   "outputs": [
    {
     "name": "stdout",
     "output_type": "stream",
     "text": [
      "{\n",
      "  \"Image URL\": \"http://www.coloratelierpaint.com/cdn/shop/files/Tadelakt_Stone_White_ea0d9bed-e633-4968-a159-7001007f1e9c.jpg?v=1747186065\",\n",
      "  \"Type\": \"Shower Plaster\",\n",
      "  \"Description\": \"Color Atelier Tadelakt is designed for use in wet areas like showers, tub surrounds, and backsplashes. It can also be used for decorative dry area applications, and outdoors. Tadelakt, an ancient lime plaster finish, dates back to Romans, originated in Morocco. For millennia, it has been appreciated for its beauty, and function. Color Atelier Tadelakt is manufactured in America with the highest quality natural ingredients. The artisanal techniques behind the Tadelakt finish have been modernized, making it a popular choice for both luxury residences and commercial properties. Its burnished smooth, waxed, and water repellent finish results in seamless, elegant, and durable applications. Naturally resistant to mold, mildew, and fungus.\",\n",
      "  \"Model No\": \"\",\n",
      "  \"Locations\": \"\"\n",
      "}\n"
     ]
    }
   ],
   "execution_count": 55
  },
  {
   "metadata": {},
   "cell_type": "code",
   "outputs": [],
   "execution_count": null,
   "source": "",
   "id": "425d024ea0fb582c"
  }
 ],
 "metadata": {
  "kernelspec": {
   "display_name": "Python 3",
   "language": "python",
   "name": "python3"
  },
  "language_info": {
   "codemirror_mode": {
    "name": "ipython",
    "version": 2
   },
   "file_extension": ".py",
   "mimetype": "text/x-python",
   "name": "python",
   "nbconvert_exporter": "python",
   "pygments_lexer": "ipython2",
   "version": "2.7.6"
  }
 },
 "nbformat": 4,
 "nbformat_minor": 5
}
