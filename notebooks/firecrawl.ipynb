{
 "cells": [
  {
   "cell_type": "code",
   "execution_count": 1,
   "metadata": {
    "ExecuteTime": {
     "end_time": "2025-07-04T23:37:26.891279Z",
     "start_time": "2025-07-04T23:37:26.233870Z"
    }
   },
   "outputs": [],
   "source": [
    "from tools.stealth_scraper import StealthScraper"
   ]
  },
  {
   "cell_type": "code",
   "execution_count": 2,
   "metadata": {
    "ExecuteTime": {
     "end_time": "2025-07-04T23:37:27.901045Z",
     "start_time": "2025-07-04T23:37:27.893386Z"
    }
   },
   "outputs": [
    {
     "data": {
      "text/plain": [
       "True"
      ]
     },
     "execution_count": 2,
     "metadata": {},
     "output_type": "execute_result"
    }
   ],
   "source": [
    "from dotenv import load_dotenv\n",
    "import os\n",
    "\n",
    "load_dotenv()"
   ]
  },
  {
   "cell_type": "code",
   "execution_count": null,
   "metadata": {
    "ExecuteTime": {
     "end_time": "2025-07-04T23:37:31.458889Z",
     "start_time": "2025-07-04T23:37:30.637720Z"
    }
   },
   "outputs": [],
   "source": [
    "# Install with pip install firecrawl-py\n",
    "import asyncio\n",
    "from firecrawl import AsyncFirecrawlApp, FirecrawlApp\n",
    "\n",
    "app = AsyncFirecrawlApp(api_key=os.getenv('FIRECRAWL_API_KEY'))\n",
    "\n",
    "async def main():\n",
    "    return await app.scrape_url(\n",
    "        url='https://www.deltafaucet.com/kitchen/product/9659-DST.html',\t\t\n",
    "        formats= [ 'rawHtml' ],\n",
    "        only_main_content= False,\n",
    "        timeout= 30000,\n",
    "        parse_pdf= False,\n",
    "        wait_for= 6000,\n",
    "    )\n",
    "\n",
    "response = await main()"
   ]
  },
  {
   "cell_type": "code",
   "execution_count": 45,
   "metadata": {
    "ExecuteTime": {
     "end_time": "2025-07-04T23:37:34.147905Z",
     "start_time": "2025-07-04T23:37:34.145298Z"
    }
   },
   "outputs": [
    {
     "name": "stdout",
     "output_type": "stream",
     "text": [
      "True\n"
     ]
    }
   ],
   "source": [
    "print(response.success)\n",
    "if response.success:\n",
    "    with open('deltafaucet_9659-DST.html', 'w') as f:\n",
    "        f.write(response.rawHtml or '')\n",
    "else:\n",
    "    print(response.error)"
   ]
  },
  {
   "cell_type": "code",
   "execution_count": null,
   "metadata": {},
   "outputs": [],
   "source": []
  }
 ],
 "metadata": {
  "kernelspec": {
   "display_name": "Python 3 (ipykernel)",
   "language": "python",
   "name": "python3"
  }
 },
 "nbformat": 4,
 "nbformat_minor": 2
}
