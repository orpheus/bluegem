{
 "cells": [
  {
   "cell_type": "code",
   "execution_count": 28,
   "metadata": {},
   "outputs": [],
   "source": [
    "from tools.html_processor import HTMLProcessor\n",
    "from tools.prompt_templator import PromptTemplator\n",
    "from tools.llm_invocator import LLMInvocator\n",
    "from tools.stealth_scraper import StealthScraper\n",
    "import pandas as pd\n",
    "from concurrent.futures import ThreadPoolExecutor\n",
    "\n",
    "stealth_scraper = StealthScraper()\n",
    "html_processor = HTMLProcessor()\n",
    "prompt_templator = PromptTemplator()\n",
    "llm_invocator = LLMInvocator()"
   ]
  },
  {
   "cell_type": "code",
   "execution_count": 29,
   "metadata": {},
   "outputs": [],
   "source": [
    "df = pd.read_csv(\"01_llmpipeline/specbook.csv\")\n",
    "df['id'] = range(1, len(df) + 1)"
   ]
  },
  {
   "cell_type": "code",
   "execution_count": null,
   "metadata": {},
   "outputs": [],
   "source": [
    "results = []\n",
    "with ThreadPoolExecutor(max_workers=10) as executor:\n",
    "    for id, product_search_result in zip(df['id'], executor.map(stealth_scraper.scrape_url, df['product_url'].to_list())):\n",
    "        results.append({\n",
    "            'id': id,\n",
    "            'product_url': product_search_result.url,\n",
    "            'success': product_search_result.success,\n",
    "            'content_length': len(product_search_result.content) if product_search_result.content else 0,\n",
    "            'status_code': product_search_result.status_code,\n",
    "            'final_method': product_search_result.final_method,\n",
    "            'error_reason': product_search_result.error_reason,\n",
    "            'page_issues': product_search_result.page_issues,\n",
    "            'html_content': product_search_result.content,\n",
    "            'full_result': product_search_result.model_dump_json()\n",
    "        })\n",
    "result_df = pd.DataFrame(results)"
   ]
  },
  {
   "cell_type": "code",
   "execution_count": 19,
   "metadata": {},
   "outputs": [
    {
     "data": {
      "text/plain": [
       "success  status_code  final_method            \n",
       "True     200          ScrapingMethod.REQUESTS     73\n",
       "False    500          ScrapingMethod.FIRECRAWL    10\n",
       "         404          ScrapingMethod.REQUESTS      4\n",
       "Name: count, dtype: int64"
      ]
     },
     "execution_count": 19,
     "metadata": {},
     "output_type": "execute_result"
    }
   ],
   "source": [
    "result_df.value_counts(['success', 'status_code', 'final_method'])"
   ]
  },
  {
   "cell_type": "markdown",
   "metadata": {},
   "source": []
  },
  {
   "cell_type": "code",
   "execution_count": 20,
   "metadata": {},
   "outputs": [],
   "source": [
    "product_results_df = df.merge(result_df, on='id', how='left') \\\n",
    "    .drop(columns=['product_url_y']) \\\n",
    "    .rename(columns={'product_url_x': 'product_url'})\n",
    "\n",
    "product_results_df.drop(columns=['html_content', 'full_result']).to_csv(\"01_llmpipeline/1-specbook_scrape_results.csv\", index=False)\n",
    "product_results_df[['id', 'product_url', 'full_result']].to_csv(\"01_llmpipeline/1-specbook_scrape_content.csv\", index=False)"
   ]
  },
  {
   "cell_type": "code",
   "execution_count": 31,
   "metadata": {},
   "outputs": [
    {
     "ename": "ValidationError",
     "evalue": "1 validation error for ProcessedHTML\nmetadata.None.[key]\n  Input should be a valid string [type=string_type, input_value=None, input_type=NoneType]\n    For further information visit https://errors.pydantic.dev/2.11/v/string_type",
     "output_type": "error",
     "traceback": [
      "\u001b[31m---------------------------------------------------------------------------\u001b[39m",
      "\u001b[31mValidationError\u001b[39m                           Traceback (most recent call last)",
      "\u001b[36mCell\u001b[39m\u001b[36m \u001b[39m\u001b[32mIn[31]\u001b[39m\u001b[32m, line 5\u001b[39m\n\u001b[32m      2\u001b[39m final_df = product_results_df.copy()\n\u001b[32m      4\u001b[39m \u001b[38;5;28;01mfor\u001b[39;00m \u001b[38;5;28mid\u001b[39m, product_url, html_content \u001b[38;5;129;01min\u001b[39;00m \u001b[38;5;28mzip\u001b[39m(success_df[\u001b[33m'\u001b[39m\u001b[33mid\u001b[39m\u001b[33m'\u001b[39m], success_df[\u001b[33m'\u001b[39m\u001b[33mproduct_url\u001b[39m\u001b[33m'\u001b[39m], success_df[\u001b[33m'\u001b[39m\u001b[33mhtml_content\u001b[39m\u001b[33m'\u001b[39m]):\n\u001b[32m----> \u001b[39m\u001b[32m5\u001b[39m     cleaned_html = \u001b[43mhtml_processor\u001b[49m\u001b[43m.\u001b[49m\u001b[43mclean_html\u001b[49m\u001b[43m(\u001b[49m\u001b[38;5;28;43mstr\u001b[39;49m\u001b[43m(\u001b[49m\u001b[43mhtml_content\u001b[49m\u001b[43m)\u001b[49m\u001b[43m)\u001b[49m\n\u001b[32m      6\u001b[39m     \u001b[38;5;66;03m# print(cleaned_html)\u001b[39;00m\n\u001b[32m      7\u001b[39m     \u001b[38;5;66;03m# prompt = prompt_templator.product_extraction(product_url, cleaned_html.model_dump_json())\u001b[39;00m\n\u001b[32m      8\u001b[39m \n\u001b[32m      9\u001b[39m     \u001b[38;5;66;03m# Add fields dynamically using loc\u001b[39;00m\n\u001b[32m     10\u001b[39m     \u001b[38;5;66;03m# final_df.loc[final_df['id'] == id, 'cleaned_html'] = cleaned_html.model_dump_json()\u001b[39;00m\n\u001b[32m     11\u001b[39m     \u001b[38;5;66;03m# final_df.loc[final_df['id'] == id, 'prompt'] = prompt\u001b[39;00m\n",
      "\u001b[36mFile \u001b[39m\u001b[32m~/code/github/orpheus/theranchmine/phase1-specbook/tools/html_processor.py:80\u001b[39m, in \u001b[36mHTMLProcessor.clean_html\u001b[39m\u001b[34m(raw_html)\u001b[39m\n\u001b[32m     77\u001b[39m     \u001b[38;5;28;01mif\u001b[39;00m src:\n\u001b[32m     78\u001b[39m         images.append({\u001b[33m\"\u001b[39m\u001b[33msrc\u001b[39m\u001b[33m\"\u001b[39m: src, \u001b[33m\"\u001b[39m\u001b[33malt\u001b[39m\u001b[33m\"\u001b[39m: alt})\n\u001b[32m---> \u001b[39m\u001b[32m80\u001b[39m \u001b[38;5;28;01mreturn\u001b[39;00m \u001b[43mProcessedHTML\u001b[49m\u001b[43m(\u001b[49m\n\u001b[32m     81\u001b[39m \u001b[43m    \u001b[49m\u001b[43mtitle\u001b[49m\u001b[43m=\u001b[49m\u001b[43msoup\u001b[49m\u001b[43m.\u001b[49m\u001b[43mtitle\u001b[49m\u001b[43m.\u001b[49m\u001b[43mstring\u001b[49m\u001b[43m.\u001b[49m\u001b[43mstrip\u001b[49m\u001b[43m(\u001b[49m\u001b[43m)\u001b[49m\u001b[43m \u001b[49m\u001b[38;5;28;43;01mif\u001b[39;49;00m\u001b[43m \u001b[49m\u001b[43msoup\u001b[49m\u001b[43m.\u001b[49m\u001b[43mtitle\u001b[49m\u001b[43m \u001b[49m\u001b[38;5;129;43;01mand\u001b[39;49;00m\u001b[43m \u001b[49m\u001b[43msoup\u001b[49m\u001b[43m.\u001b[49m\u001b[43mtitle\u001b[49m\u001b[43m.\u001b[49m\u001b[43mstring\u001b[49m\u001b[43m \u001b[49m\u001b[38;5;28;43;01melse\u001b[39;49;00m\u001b[43m \u001b[49m\u001b[33;43m\"\u001b[39;49m\u001b[33;43m\"\u001b[39;49m\u001b[43m,\u001b[49m\n\u001b[32m     82\u001b[39m \u001b[43m    \u001b[49m\u001b[43mmetadata\u001b[49m\u001b[43m=\u001b[49m\u001b[43mmetadata\u001b[49m\u001b[43m,\u001b[49m\n\u001b[32m     83\u001b[39m \u001b[43m    \u001b[49m\u001b[43mtext\u001b[49m\u001b[43m=\u001b[49m\u001b[43mvisible_text\u001b[49m\u001b[43m,\u001b[49m\n\u001b[32m     84\u001b[39m \u001b[43m    \u001b[49m\u001b[43mimages\u001b[49m\u001b[43m=\u001b[49m\u001b[43mimages\u001b[49m\n\u001b[32m     85\u001b[39m \u001b[43m\u001b[49m\u001b[43m)\u001b[49m\n",
      "\u001b[36mFile \u001b[39m\u001b[32m~/code/github/orpheus/theranchmine/phase1-specbook/.venv/lib/python3.11/site-packages/pydantic/main.py:253\u001b[39m, in \u001b[36mBaseModel.__init__\u001b[39m\u001b[34m(self, **data)\u001b[39m\n\u001b[32m    251\u001b[39m \u001b[38;5;66;03m# `__tracebackhide__` tells pytest and some other tools to omit this function from tracebacks\u001b[39;00m\n\u001b[32m    252\u001b[39m __tracebackhide__ = \u001b[38;5;28;01mTrue\u001b[39;00m\n\u001b[32m--> \u001b[39m\u001b[32m253\u001b[39m validated_self = \u001b[38;5;28;43mself\u001b[39;49m\u001b[43m.\u001b[49m\u001b[43m__pydantic_validator__\u001b[49m\u001b[43m.\u001b[49m\u001b[43mvalidate_python\u001b[49m\u001b[43m(\u001b[49m\u001b[43mdata\u001b[49m\u001b[43m,\u001b[49m\u001b[43m \u001b[49m\u001b[43mself_instance\u001b[49m\u001b[43m=\u001b[49m\u001b[38;5;28;43mself\u001b[39;49m\u001b[43m)\u001b[49m\n\u001b[32m    254\u001b[39m \u001b[38;5;28;01mif\u001b[39;00m \u001b[38;5;28mself\u001b[39m \u001b[38;5;129;01mis\u001b[39;00m \u001b[38;5;129;01mnot\u001b[39;00m validated_self:\n\u001b[32m    255\u001b[39m     warnings.warn(\n\u001b[32m    256\u001b[39m         \u001b[33m'\u001b[39m\u001b[33mA custom validator is returning a value other than `self`.\u001b[39m\u001b[38;5;130;01m\\n\u001b[39;00m\u001b[33m'\u001b[39m\n\u001b[32m    257\u001b[39m         \u001b[33m\"\u001b[39m\u001b[33mReturning anything other than `self` from a top level model validator isn\u001b[39m\u001b[33m'\u001b[39m\u001b[33mt supported when validating via `__init__`.\u001b[39m\u001b[38;5;130;01m\\n\u001b[39;00m\u001b[33m\"\u001b[39m\n\u001b[32m    258\u001b[39m         \u001b[33m'\u001b[39m\u001b[33mSee the `model_validator` docs (https://docs.pydantic.dev/latest/concepts/validators/#model-validators) for more details.\u001b[39m\u001b[33m'\u001b[39m,\n\u001b[32m    259\u001b[39m         stacklevel=\u001b[32m2\u001b[39m,\n\u001b[32m    260\u001b[39m     )\n",
      "\u001b[31mValidationError\u001b[39m: 1 validation error for ProcessedHTML\nmetadata.None.[key]\n  Input should be a valid string [type=string_type, input_value=None, input_type=NoneType]\n    For further information visit https://errors.pydantic.dev/2.11/v/string_type"
     ]
    }
   ],
   "source": [
    "success_df = product_results_df[product_results_df['success'] == True]\n",
    "final_df = product_results_df.copy()\n",
    "\n",
    "for id, product_url, html_content in zip(success_df['id'], success_df['product_url'], success_df['html_content']):\n",
    "    cleaned_html = html_processor.clean_html(str(html_content))\n",
    "    # print(cleaned_html)\n",
    "    # prompt = prompt_templator.product_extraction(product_url, cleaned_html.model_dump_json())\n",
    "    \n",
    "    # Add fields dynamically using loc\n",
    "    # final_df.loc[final_df['id'] == id, 'cleaned_html'] = cleaned_html.model_dump_json()\n",
    "    # final_df.loc[final_df['id'] == id, 'prompt'] = prompt\n"
   ]
  },
  {
   "cell_type": "code",
   "execution_count": null,
   "metadata": {},
   "outputs": [],
   "source": [
    "\n",
    "\n",
    "#  response = llm_invocator.invoke_llm(\n",
    "#             model_provider=\"openai\",\n",
    "#             llm_model_name=\"gpt-4.1\",\n",
    "#             prompt=prompt\n",
    "#         )\n",
    "\n",
    "# # TODO validate response\n"
   ]
  }
 ],
 "metadata": {
  "kernelspec": {
   "display_name": "Python 3 (ipykernel)",
   "language": "python",
   "name": "python3"
  },
  "language_info": {
   "codemirror_mode": {
    "name": "ipython",
    "version": 3
   },
   "file_extension": ".py",
   "mimetype": "text/x-python",
   "name": "python",
   "nbconvert_exporter": "python",
   "pygments_lexer": "ipython3",
   "version": "3.11.13"
  }
 },
 "nbformat": 4,
 "nbformat_minor": 2
}
