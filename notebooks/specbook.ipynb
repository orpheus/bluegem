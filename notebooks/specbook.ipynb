{
 "cells": [
  {
   "cell_type": "markdown",
   "id": "5405ce9a3aa5e07f",
   "metadata": {},
   "source": [
    "# Setup"
   ]
  },
  {
   "cell_type": "code",
   "execution_count": 1,
   "id": "f429931adf2185c6",
   "metadata": {
    "ExecuteTime": {
     "end_time": "2025-07-01T04:05:50.596515Z",
     "start_time": "2025-07-01T04:05:50.593436Z"
    }
   },
   "outputs": [
    {
     "name": "stderr",
     "output_type": "stream",
     "text": [
      "/var/folders/86/htttx7197fv90v3w5v6m_s_c0000gn/T/ipykernel_45092/4065996874.py:5: DeprecationWarning: \n",
      "Pyarrow will become a required dependency of pandas in the next major release of pandas (pandas 3.0),\n",
      "(to allow more performant data types, such as the Arrow string type, and better interoperability with other libraries)\n",
      "but was not found to be installed on your system.\n",
      "If this would cause problems for you,\n",
      "please provide us feedback at https://github.com/pandas-dev/pandas/issues/54466\n",
      "        \n",
      "  import pandas as pd\n"
     ]
    }
   ],
   "source": [
    "import time\n",
    "from bs4 import BeautifulSoup\n",
    "from openai import OpenAI\n",
    "from dotenv import load_dotenv\n",
    "import pandas as pd"
   ]
  },
  {
   "cell_type": "code",
   "execution_count": 2,
   "id": "b8cc84f7",
   "metadata": {},
   "outputs": [],
   "source": [
    "load_dotenv()\n",
    "client = OpenAI()"
   ]
  },
  {
   "cell_type": "markdown",
   "id": "d02f7df792189e42",
   "metadata": {},
   "source": [
    "# Read product URLs"
   ]
  },
  {
   "cell_type": "code",
   "execution_count": null,
   "id": "ce86d42adcc27e4",
   "metadata": {
    "ExecuteTime": {
     "end_time": "2025-07-05T18:57:57.241247Z",
     "start_time": "2025-07-05T18:57:57.226960Z"
    }
   },
   "outputs": [
    {
     "name": "stdout",
     "output_type": "stream",
     "text": [
      "Loaded 87 rows from specbook.csv\n",
      "https://www.dunnedwards.com/colors/browser/dew340 1\n",
      "https://www.coloratelierpaint.com/product-page/tadelakt-shower-plaster 2\n",
      "https://www.dunnedwards.com/colors/browser/dew340 3\n",
      "https://www.dunnedwards.com/colors/browser/dew340 4\n",
      "https://www.strongarhardware.com/extra-length-ladder-style-back-to-back-push-pull-door-handle-matte-black-powder-coated-stainless-steel-finish/ 5\n",
      "https://www.kwikset.com/products/detail/milan-lever-round-bed-bath?variant=155mil-rdt-514 6\n",
      "https://www.kwikset.com/products/detail/milan-lever-round-hall-closet?variant=154mil-rdt-514 7\n",
      "https://emtek.com/door-hinges/4x4squarebarrelheavydutyhinges 8\n",
      "https://www.msisurfaces.com/marble/calacatta-marble/#:~:text=Calacatta%20Gold%20marble%20is%20a,islands%2C%20marble%20floors%20and%20backsplashes. 9\n",
      "https://www.cosentino.com/colors/silestone/charcoal-soapstone/ 10\n",
      "https://www.caesarstoneus.com/catalog/1141-pure-white/ 11\n",
      "https://www.fireclaytile.com/tile/colors/detail/daisy/tile-field-2-x-2 12\n",
      "https://www.fireclaytile.com/tile/colors/detail/basalt/tile-field-2-x-2#specs-content 13\n",
      "https://www.fireclaytile.com/tile/colors/detail/daisy/tile-field-2-x-2 14\n",
      "https://www.fireclaytile.com/tile/colors/detail/carbon/tile-field-2-x-2 15\n",
      "https://www.fireclaytile.com/tile/colors/detail/caribbean/tile-field-2-x-6 16\n",
      "https://www.fireclaytile.com/tile/colors/detail/sea-glass/tile-field-2-x-6 17\n",
      "https://www.fireclaytile.com/tile/colors/detail/mesa/tile-field-2-x-6 18\n",
      "https://www.fireclaytile.com/tile/colors/detail/bryce-canyon/tile-field-2-x-6 19\n",
      "https://www.fireclaytile.com/tile/colors/detail/tuolumne-meadows/tile-field-2-x-6 20\n",
      "https://www.bellmontcabinets.com/galleries/door-gallery/door-details.html&door_details=Paris&door_series=1600%20Series 21\n",
      "https://www.kraususa.com/kraus-kwu120-45-workstation-45-undermount-2-tier-16-gauge-stainless-steel-single-bowl-kitchen-sink.html 22\n",
      "https://www.kraususa.com/kraus-khu100-32-32-undermount-16-gauge-stainless-steel-single-bowl-kitchen-sink.html 23\n",
      "https://www.deltafaucet.com/kitchen/product/9659-DST.html 24\n",
      "https://www.deltafaucet.com/kitchen/product/1165LF-AR.html 25\n",
      "https://www.kraususa.com/kitchen/kitchen-sinks/undermount-sinks/kraus-kwu110-32-workstation-32-undermount-16-gauge-stainless-steel-single-bowl-kitchen-sink-3.html 26\n",
      "https://www.deltafaucet.com/kitchen/product/9159-BL-DST 27\n",
      "https://www.deltafaucet.com/kitchen/product/9159-AR-DST 28\n",
      "https://www.kraususa.com/kraus-khu100-26-26-undermount-16-gauge-stainless-steel-single-bowl-kitchen-sink.html 29\n",
      "https://www.kraususa.com/kraus-khu100-32-32-undermount-16-gauge-stainless-steel-single-bowl-kitchen-sink.html 30\n",
      "https://www.deltafaucet.com/kitchen/product/1959LF.html 31\n",
      "https://kastconcretebasins.com/products/p/rho 32\n",
      "https://www.us.kohler.com/us/purist-widespread-wall-mount-bathroom-sink-faucet-trim-with-6-1-4-spout-and-cross-handles-requires-valve/productDetail/sink-faucets/421576.htm?skuId=1298133&brandId=1152540 33\n",
      "https://www.us.kohler.com/us/purist-floor-mount-bath-filler-trim-with-handshower/productDetail/bathtub-faucets-fillers/1095363.htm?skuId=1363332 34\n",
      "https://www.us.kohler.com/us/verticyl-rectangular-undermount-bathroom-sink/productDetail/bathroom-sinks/427425.htm 35\n",
      "https://www.us.kohler.com/us/purist-single-handle-bathroom-sink-faucet-with-straight-lever-handle/productDetail/sink-faucets/422314.htm?skuId=1294825&brandId=1152540 36\n",
      "https://www.us.kohler.com/us/catalog/productDetails.jsp?productId=425614&skuId=1284581 37\n",
      "https://www.us.kohler.com/us/purist-1.75-gpm-multifunction-showerhead-with-katalyst-air-induction-technology/productDetail/showerheads/1476691.htm?skuId=1566064&brandId=1148925 38\n",
      "https://www.us.kohler.com/us/10-rainhead-with-katalyst-air-induction-technology-2.5-gpm/productDetail/rainheads/427973.htm?skuId=408748&brandId=784535 39\n",
      "https://www.us.kohler.com/us/purist-rite-temp-pressure-balancing-valve-trim-with-cross-handles-valve-not-included/productDetail/handle-trim/427500.htm?skuId=1476483&brandId=1002105 40\n",
      "https://www.deltafaucet.com/bathroom/product/559LF-SSLPU 41\n",
      "https://www.deltafaucet.com/bathroom/product/T14259-SS 42\n",
      "https://www.deltafaucet.com/bathroom/product/T14459-SS.html 43\n",
      "https://www.us.kohler.com/us/elmbrook-60-x-30-alcove-bath-w-integral-apron-and-right-drain/productDetail/product:1787371/1787371.htm?skuId=1787340 44\n",
      "https://www.us.kohler.com/us/persuade-curv-comfort-height-two-piece-elongated-dual-flush-toilet-w-top-mount-actuator-and-skirted-trapway/productDetail/toilets/1330460.htm?skuId=1330426&brandId=1165230 45\n",
      "https://www.deltafaucet.com/bathroom/product/55085-SS 46\n",
      "https://www.hinkley.com/13594bk-ll.html 47\n",
      "https://www.hinkley.com/13590bk-ll.html 48\n",
      "https://lambertetfils.com/product/dot-line-suspension/?v=7516fd43adaa 49\n",
      "https://www.dwr.com/lighting-ceiling/random-light/6987.html?lang=en_US&gclid=Cj0KCQiA09eQBhCxARIsAAYRiylJimpRfBktaUYGFdIfJCUF_JakDmBpF0mMUREipTplrxMRECzTU5AaAr7YEALw_wcB&gclsrc=aw.ds 50\n",
      "https://rbw.com/products/pastille-3-vanity/ddd-pc30-27-120_tr_line-ip20 51\n",
      "https://rbw.com/products/pastille-1-disc/d-pc30-27-120_tr_line-ip20 52\n",
      "https://currentcollection.com/strike/ 53\n",
      "https://www.nuvolightinglights.com/product/nuvo-lighting-blink-plus-flush-mount-62-1377.html 54\n",
      "https://www.lightology.com/index.php?module=prod_detail&prod_id=880984&cat_id=146 55\n",
      "https://www.emerson.lightingnewyork.com/product/emerson-fans-loft-indoor-ceiling-fans-cf765bq.html 56\n",
      "https://www.environmentallights.com/18942-ln-pf-2700k-5m.html 57\n",
      "https://www.philips-hue.com/en-us/p/hue-white-and-color-ambiance-lightstrip-plus-base-v4-80-inch/046677555337#faq 58\n",
      "https://www.us.kohler.com/us/purist-towel-ring/productDetail/towel-rings/421803.htm?skuId=381661&brandId=1152540 59\n",
      "https://www.us.kohler.com/us/purist-30-towel-bar/productDetail/towel-bars/421801.htm?skuId=381651&brandId=1152540 60\n",
      "https://www.us.kohler.com/us/purist-pivoting-toilet-paper-holder/productDetail/toilet-tissue-holders/428367.htm?skuId=410302&brandId=1152540 61\n",
      "https://www.us.kohler.com/us/purist-robe-hook/productDetail/robe-hooks/421804.htm?skuId=381666&brandId=1152540 62\n",
      "https://www.deltafaucet.com/bathroom/product/75912-SS 63\n",
      "https://www.deltafaucet.com/bathroom/product/75925-SS 64\n",
      "https://www.deltafaucet.com/bathroom/product/75950-SS 65\n",
      "https://www.potterybarn.com/products/moritz-round-mirror/?catalogId=84&sku=5705623&cm_ven=PLA&cm_cat=Google&cm_pla=Bath%20%3E%20Mirrors&region_id=792000&cm_ite=5705623&gclid=CjwKCAjw1uiEBhBzEiwAO9B_HZ2_K_j4vByLB9LG5R7Wzjl5-7CvVK2uO_EUyZ14R4qGoFl7nelQ-hoCCDcQAvD_BwE 66\n",
      "https://www.dwr.com/accessories-entryway/mondrian-mirrors/1458.html?lang=en_US 67\n",
      "https://www.lg.com/us/washers/lg-WM3900HBA-front-load-washer 68\n",
      "https://www.lg.com/us/dryers/lg-DLGX3901B-gas-dryer 69\n",
      "https://www.lg.com/us/styler/lg-s5msb-styler 70\n",
      "https://www.subzero-wolf.com/sub-zero/full-size-refrigeration/integrated-fridges/36-inch-integrated-column-freezer-ice-maker-panel-ready 71\n",
      "https://www.subzero-wolf.com/sub-zero/full-size-refrigeration/integrated-fridges/36-inch-integrated-column-refrigerator-internal-dispenser-panel-ready 72\n",
      "https://www.subzero-wolf.com/wolf/cooktops-and-rangetops/induction-cooktops/36-inch-contemporary-induction-cooktop 73\n",
      "https://www.subzero-wolf.com/cove/dishwashers/24-inch-dishwasher-panel-ready 74\n",
      "https://www.subzero-wolf.com/wolf/microwave-ovens/24-inch-standard-microwave-oven 75\n",
      "https://www.subzero-wolf.com/wolf/range-hood/46-inch-pro-hood-liner-22-inch-depth 76\n",
      "https://www.subzero-wolf.com/wolf/ovens/m-series/30-inch-m-series-contemporary-built-in-double-oven 77\n",
      "https://www.subzero-wolf.com/sub-zero/full-size-refrigeration/integrated-fridges/30-inch-integrated-over-under-refrigerator-freezer-ice-maker-internal-dispenser-panel-ready 78\n",
      "https://true-residential.com/products/24-dual-zone-wine-cabinet-overlay-glass/?finishes=Stainless+Steel&hardware=Stainless+Steel&hinge=Right+Hinge 79\n",
      "https://true-residential.com/products/beverage-center/?finishes=&hardware=&hinge=Right+Hinge 80\n",
      "https://true-residential.com/products/15-clear-ice-machine-overlay-panel/?finishes=Stainless+Steel&hardware=Stainless+Steel&hinge=Right+Hinge 81\n",
      "https://www.subzero-wolf.com/sub-zero/full-size-refrigeration/integrated-fridges/36-inch-integrated-over-under-refrigerator-freezer-internal-dispenser-ice-maker-panel-ready 82\n",
      "https://www.subzero-wolf.com/wolf/range-hood/45-inch-cooktop-wall-hood-black 83\n",
      "https://www.subzero-wolf.com/wolf/range-hood/46-inch-pro-hood-liner-22-inch-depth 84\n",
      "https://www.subzero-wolf.com/wolf/grill/42-inch-outdoor-gas-grill 85\n",
      "https://biggreenegg.com/product/large-big-green-egg/ 86\n",
      "https://fireorb.net/photos/ 87\n"
     ]
    }
   ],
   "source": [
    "# Read the specbook.csv from 01_llmpipeline directory\n",
    "df = pd.read_csv('01_llmpipeline/specbook.csv', index_col='category')\n",
    "df['id'] = range(1, len(df) + 1)\n",
    "print(f\"Loaded {len(df)} rows from specbook.csv\")\n",
    "df.head()\n",
    "\n",
    "# for url, id in zip(df['product_url'], df['id']):\n",
    "#     print(url, id)"
   ]
  },
  {
   "cell_type": "code",
   "execution_count": 4,
   "id": "ec12b53bbbac16fa",
   "metadata": {
    "ExecuteTime": {
     "end_time": "2025-07-05T18:57:59.487149Z",
     "start_time": "2025-07-05T18:57:59.480363Z"
    }
   },
   "outputs": [
    {
     "name": "stdout",
     "output_type": "stream",
     "text": [
      "Unique product urls: 82\n",
      "Number of rows where product_url is not null: 87\n",
      "Number of rows where product_url is null: 0\n"
     ]
    }
   ],
   "source": [
    "unique = unique=df['product_url'].nunique()\n",
    "print(f\"Unique product urls: {unique}\")\n",
    "\n",
    "# Count the number of rows where product_url is not null\n",
    "not_null = df['product_url'].notna().sum()\n",
    "print(f\"Number of rows where product_url is not null: {not_null}\")\n",
    "\n",
    "# Count the number of rows where product_url is null\n",
    "null = df['product_url'].isna().sum()\n",
    "print(f\"Number of rows where product_url is null: {null}\")\n",
    "\n",
    "product_urls = df[\"product_url\"].to_list()"
   ]
  },
  {
   "cell_type": "markdown",
   "id": "c20c71ee0250d3b3",
   "metadata": {},
   "source": [
    "# Fetch Product HTML"
   ]
  },
  {
   "cell_type": "code",
   "execution_count": 5,
   "id": "0483a7b0",
   "metadata": {
    "ExecuteTime": {
     "end_time": "2025-07-05T19:05:47.437965Z",
     "start_time": "2025-07-05T19:05:39.992398Z"
    }
   },
   "outputs": [],
   "source": [
    "from concurrent.futures import ThreadPoolExecutor\n",
    "from tools.stealth_scraper import StealthScraper\n",
    "\n",
    "scraper = StealthScraper()\n",
    "\n",
    "results = {}\n",
    "\n",
    "with ThreadPoolExecutor(max_workers=10) as executor:\n",
    "    for url, result in zip(product_urls, executor.map(scraper.scrape_url, product_urls)):\n",
    "        results[url] = result"
   ]
  },
  {
   "cell_type": "code",
   "execution_count": 6,
   "id": "b41e1de6",
   "metadata": {
    "ExecuteTime": {
     "end_time": "2025-07-05T19:05:49.671284Z",
     "start_time": "2025-07-05T19:05:49.657562Z"
    }
   },
   "outputs": [
    {
     "name": "stderr",
     "output_type": "stream",
     "text": [
      "/var/folders/86/htttx7197fv90v3w5v6m_s_c0000gn/T/ipykernel_45092/2814656682.py:15: PydanticDeprecatedSince20: The `json` method is deprecated; use `model_dump_json` instead. Deprecated in Pydantic V2.0 to be removed in V3.0. See Pydantic V2 Migration Guide at https://errors.pydantic.dev/2.11/migration/\n",
      "  'full_result': result.json()\n"
     ]
    }
   ],
   "source": [
    "# Create lists to store the data\n",
    "data = []\n",
    "\n",
    "for url, result in results.items():\n",
    "    # Extract the basic fields\n",
    "    row = {\n",
    "        'url': url,\n",
    "        'success': result.success,\n",
    "        'content_length': len(result.content) if result.content else 0,\n",
    "        'status_code': result.status_code,\n",
    "        'final_method': result.final_method,\n",
    "        'error_reason': result.error_reason,\n",
    "        'page_issues': result.page_issues,\n",
    "        # Convert the full result to JSON for storage\n",
    "        'full_result': result.json()\n",
    "    }\n",
    "    data.append(row)\n",
    "\n",
    "# Create the DataFrame\n",
    "result_df = pd.DataFrame(data)\n",
    "\n",
    "# Reorder columns to match requested order\n",
    "column_order = ['success', 'content_length', 'status_code', 'final_method', 'url', 'full_result',  'error_reason', 'page_issues']\n",
    "result_df = result_df[column_order]"
   ]
  },
  {
   "cell_type": "code",
   "execution_count": 7,
   "id": "a2ccfceb925c9e0f",
   "metadata": {
    "ExecuteTime": {
     "end_time": "2025-07-05T19:06:19.463615Z",
     "start_time": "2025-07-05T19:06:19.447795Z"
    }
   },
   "outputs": [
    {
     "name": "stdout",
     "output_type": "stream",
     "text": [
      "status_code\n",
      "200    65\n",
      "500    13\n",
      "404     4\n",
      "Name: count, dtype: int64\n",
      "page_issues\n",
      "[]                          70\n",
      "[PageIssue.BOT_DETECTED]    12\n",
      "Name: count, dtype: int64\n",
      "success\n",
      "True     65\n",
      "False    17\n",
      "Name: count, dtype: int64\n"
     ]
    }
   ],
   "source": [
    "print(result_df[\"status_code\"].value_counts())\n",
    "print(result_df[\"page_issues\"].value_counts())\n",
    "print(result_df[\"success\"].value_counts())"
   ]
  },
  {
   "cell_type": "code",
   "execution_count": 132,
   "id": "59d790b23b98ad2c",
   "metadata": {
    "ExecuteTime": {
     "end_time": "2025-07-01T04:58:45.465708Z",
     "start_time": "2025-07-01T04:58:40.452994Z"
    }
   },
   "outputs": [],
   "source": [
    "soups = {}\n",
    "\n",
    "with open(f'01_llmpipeline/1-requests_failed_{int(time.time())}.csv', 'w', newline='') as csvfile:\n",
    "    writer = csv.writer(csvfile)\n",
    "    writer.writerow(['url', 'status_code', 'text'])\n",
    "\n",
    "    for url, response in results.items():\n",
    "        soup = BeautifulSoup(response.get(\"text\"), \"html.parser\")\n",
    "\n",
    "        code = response.get(\"code\")\n",
    "        if code != 200:\n",
    "            writer.writerow([url, code, soup.text])\n",
    "        else:\n",
    "            soups[url] = soup"
   ]
  },
  {
   "cell_type": "markdown",
   "id": "daec12cd462a8203",
   "metadata": {},
   "source": [
    "# Preprocess HTML"
   ]
  },
  {
   "cell_type": "code",
   "execution_count": 140,
   "id": "89d160c693f992d9",
   "metadata": {
    "ExecuteTime": {
     "end_time": "2025-07-02T00:57:00.909430Z",
     "start_time": "2025-07-02T00:57:00.505370Z"
    }
   },
   "outputs": [],
   "source": [
    "REMOVE_TAGS = [\n",
    "    \"script\", \"style\", \"noscript\", \"svg\", \"footer\", \"header\",\n",
    "    \"nav\", \"form\", \"iframe\", \"aside\", \"canvas\", \"button\", \"input\", \"select\", \"option\"\n",
    "]\n",
    "\n",
    "GARBAGE_KEYWORDS = [\"cookie\", \"newsletter\", \"subscribe\", \"banner\", \"social\", \"share\", \"advert\"]\n",
    "\n",
    "preprocessed_html = {}\n",
    "\n",
    "for url, soup in soups.items():\n",
    "\n",
    "    # Remove noise tags\n",
    "    for tag in soup(REMOVE_TAGS):\n",
    "        tag.decompose()\n",
    "\n",
    "    # # Remove elements with garbage classes/ids\n",
    "    # for el in soup.find_all(attrs={\"class\": True}):\n",
    "    #     cls = \" \".join(el.get(\"class\"))\n",
    "    #     if any(kw in cls.lower() for kw in GARBAGE_KEYWORDS):\n",
    "    #         el.decompose()\n",
    "    #\n",
    "    # for el in soup.find_all(attrs={\"id\": True}):\n",
    "    #     id_ = el.get(\"id\")\n",
    "    #     if id_ and any(kw in id_.lower() for kw in GARBAGE_KEYWORDS):\n",
    "    #         el.decompose()\n",
    "\n",
    "    # Extract visible text\n",
    "    text = soup.get_text(separator=\"\\n\", strip=True)\n",
    "    text_lines = [line.strip() for line in text.splitlines() if line.strip()]\n",
    "    visible_text = \"\\n\".join(text_lines)\n",
    "\n",
    "    # Extract metadata\n",
    "    metadata = {\n",
    "        tag.get(\"property\") or tag.get(\"name\"): tag.get(\"content\")\n",
    "        for tag in soup.find_all(\"meta\")\n",
    "        if tag.get(\"content\")\n",
    "    }\n",
    "\n",
    "    # Extract images with alt text\n",
    "    images = []\n",
    "    for img in soup.find_all(\"img\"):\n",
    "        src = img.get(\"src\")\n",
    "        alt = img.get(\"alt\", \"\").strip()\n",
    "        if src:\n",
    "            images.append({\"src\": src, \"alt\": alt})\n",
    "\n",
    "    preprocessed_html[url] = {\n",
    "        \"title\": soup.title.string.strip() if soup.title and soup.title.string else \"\",\n",
    "        \"metadata\": metadata,\n",
    "        \"text\": visible_text,\n",
    "        \"images\": images\n",
    "    }\n"
   ]
  },
  {
   "cell_type": "code",
   "execution_count": null,
   "id": "c84931487b0b8423",
   "metadata": {
    "ExecuteTime": {
     "end_time": "2025-07-01T04:59:02.904497Z",
     "start_time": "2025-07-01T04:59:02.889196Z"
    }
   },
   "outputs": [],
   "source": [
    "import json\n",
    "# Max characters after pre-process\n",
    "print(max([len(json.dumps(x)) for x in preprocessed_html]))\n",
    "\n",
    "with open('01_llmpipeline/2-preprocessed_html.json', 'w') as json_file:\n",
    "    json.dump(preprocessed_html, json_file)\n",
    "\n",
    "# with open('preprocessed_html.json', 'r') as json_file:\n",
    "#     preprocessed_html = json.load(json_file)"
   ]
  },
  {
   "cell_type": "markdown",
   "id": "37476b2d2c36474c",
   "metadata": {},
   "source": [
    "# Create Prompts"
   ]
  },
  {
   "cell_type": "code",
   "execution_count": 207,
   "id": "a37d9c8e341931c1",
   "metadata": {
    "ExecuteTime": {
     "end_time": "2025-07-03T04:07:31.237408Z",
     "start_time": "2025-07-03T04:07:31.233001Z"
    }
   },
   "outputs": [],
   "source": [
    "from langchain_core.prompts import ChatPromptTemplate\n",
    "\n",
    "system_template = \"\"\"\n",
    "You are a project architect tasked with fetching specification details from the following product website's HTML page. Extract the relevant product information for documentation in a specification book.\n",
    "\n",
    "If you are not 99.9% sure that the information is correct, return the value with the highest probability, including the probability in the value field.\n",
    "\n",
    "TITLE:\n",
    "data['title']\n",
    "\n",
    "PRODUCT URL:\n",
    "{product_url}\n",
    "\n",
    "METADATA:\n",
    "data['metadata']\n",
    "\n",
    "TEXT CONTENT:\n",
    "data['text']\n",
    "\n",
    "IMAGES:\n",
    "data['images']\n",
    "\n",
    "Extract the following structured data in JSON format from the provided product web page:\n",
    "\n",
    "- image_url: Direct URL to the product image. If the url is a relative url, append to the base_url **without modifying the url as found in the html <img> tag**. Prioritize <img> tag urls that have an `id` attribute or any attribute with a value that relates it to the main product image.\n",
    "- type: The product category (e.g. range hood, grill, fireplace, etc.).\n",
    "- description: Short product description, including brand, size, material, color, and any notable features\n",
    "- model_no: Manufacturer model number, item no, or sku no.\n",
    "- product_link: Original product page URL.\n",
    "- qty: Quantity if specified; otherwise return \"unspecified\".\n",
    "- key: A unique reference key (if available).\n",
    "\n",
    "Return your output in this JSON format without the json tag and codeblocks.\n",
    "You **don’t add extra formatting instructions yourself**:\n",
    "\n",
    "```json\n",
    "{{\n",
    "  \"image_url\": \"\",\n",
    "  \"type\": \"\",\n",
    "  \"description\": \"\",\n",
    "  \"model_no\": \"\",\n",
    "  \"product_link\": \"\",\n",
    "  \"qty\": \"\",\n",
    "  \"key\": \"\"\n",
    "}}\n",
    "```\n",
    "\n",
    "data:\n",
    "{data}\n",
    "\"\"\"\n",
    "\n",
    "prompt_template = ChatPromptTemplate.from_messages(\n",
    "    [(\"system\", system_template)]\n",
    ")"
   ]
  },
  {
   "cell_type": "code",
   "execution_count": 208,
   "id": "d7e31b34e3d2eab4",
   "metadata": {
    "ExecuteTime": {
     "end_time": "2025-07-03T04:07:34.543536Z",
     "start_time": "2025-07-03T04:07:34.457002Z"
    }
   },
   "outputs": [],
   "source": [
    "prompts = {}\n",
    "\n",
    "for url, website_data in preprocessed_html.items():\n",
    "    prompts[url] = prompt_template.invoke({\"data\": json.dumps(website_data), \"product_url\": url})"
   ]
  },
  {
   "cell_type": "code",
   "execution_count": 209,
   "id": "309b685c7af0f252",
   "metadata": {
    "ExecuteTime": {
     "end_time": "2025-07-03T04:08:07.924716Z",
     "start_time": "2025-07-03T04:08:07.892498Z"
    }
   },
   "outputs": [],
   "source": [
    "with open(f'01_llmpipeline/3-prompts-{int(time.time())}.csv', mode='w', newline='') as csvfile:\n",
    "    writer = csv.writer(csvfile)\n",
    "    writer.writerow(['url', 'prompt'])\n",
    "\n",
    "    for url, prompt in prompts.items():\n",
    "        writer.writerow([url, prompt.to_string()])\n"
   ]
  },
  {
   "cell_type": "markdown",
   "id": "b5cbb3b65dd16804",
   "metadata": {},
   "source": [
    "# Invoke Model"
   ]
  },
  {
   "cell_type": "code",
   "execution_count": 210,
   "id": "2f10d0a1ce01ce6",
   "metadata": {
    "ExecuteTime": {
     "end_time": "2025-07-03T04:08:24.003968Z",
     "start_time": "2025-07-03T04:08:24.000473Z"
    }
   },
   "outputs": [],
   "source": [
    "gpt_4o_mini = init_chat_model(\"gpt-4o-mini\", model_provider=\"openai\")"
   ]
  },
  {
   "cell_type": "code",
   "execution_count": 202,
   "id": "960e896606d29a7f",
   "metadata": {
    "ExecuteTime": {
     "end_time": "2025-07-03T04:07:02.077004Z",
     "start_time": "2025-07-03T04:07:02.074492Z"
    }
   },
   "outputs": [],
   "source": [
    "# product_url = \"https://www.subzero-wolf.com/sub-zero/full-size-refrigeration/integrated-fridges/36-inch-integrated-column-freezer-ice-maker-panel-ready\"\n",
    "# # product_url = \"https://www.subzero-wolf.com/sub-zero/full-size-refrigeration/integrated-fridges/36-inch-integrated-column-refrigerator-internal-dispenser-panel-ready\"\n",
    "# oneshot = preprocessed_html[product_url]\n",
    "# oneshot_p = prompt_template.invoke({\"data\": json.dumps(oneshot), \"product_url\": product_url})\n",
    "# c = gpt_4o_mini.invoke(oneshot_p)\n",
    "#"
   ]
  },
  {
   "cell_type": "code",
   "execution_count": 203,
   "id": "65bd4cf10e901b44",
   "metadata": {
    "ExecuteTime": {
     "end_time": "2025-07-03T04:07:04.893063Z",
     "start_time": "2025-07-03T04:07:04.890223Z"
    }
   },
   "outputs": [],
   "source": [
    "# print(json.loads(c.content)['image_url'])"
   ]
  },
  {
   "cell_type": "code",
   "execution_count": null,
   "id": "13e0dbd526326c51",
   "metadata": {
    "ExecuteTime": {
     "end_time": "2025-07-03T04:13:22.361731Z",
     "start_time": "2025-07-03T04:08:26.556101Z"
    }
   },
   "outputs": [],
   "source": [
    "llm_responses = {}\n",
    "\n",
    "for url, prompt in prompts.items():\n",
    "    llm_responses[url] = gpt_4o_mini.invoke(prompt)"
   ]
  },
  {
   "cell_type": "code",
   "execution_count": 212,
   "id": "b68835e08817fdda",
   "metadata": {
    "ExecuteTime": {
     "end_time": "2025-07-03T04:13:25.106714Z",
     "start_time": "2025-07-03T04:13:25.101203Z"
    }
   },
   "outputs": [],
   "source": [
    "with open(f'01_llmpipeline/4-llm-{int(time.time())}.csv', mode='w', newline='') as csvfile:\n",
    "    writer = csv.writer(csvfile)\n",
    "    writer.writerow(['url', 'llm_message'])\n",
    "\n",
    "    for url, llm_message in llm_responses.items():\n",
    "        writer.writerow([url, llm_message.content])"
   ]
  },
  {
   "cell_type": "code",
   "execution_count": null,
   "id": "b6571661497393bf",
   "metadata": {
    "ExecuteTime": {
     "end_time": "2025-07-03T04:22:54.599868Z",
     "start_time": "2025-07-03T04:22:54.592960Z"
    }
   },
   "outputs": [],
   "source": [
    "for url, llm_message in llm_responses.items():\n",
    "    print(url, json.loads(llm_message.content)[\"image_url\"], \"\\n\")"
   ]
  },
  {
   "cell_type": "markdown",
   "id": "f1694a72df8dcd47",
   "metadata": {},
   "source": [
    "aa# Evaluation"
   ]
  },
  {
   "cell_type": "code",
   "execution_count": 167,
   "id": "e16ef603d4ffe9c7",
   "metadata": {
    "ExecuteTime": {
     "end_time": "2025-07-02T02:26:58.948734Z",
     "start_time": "2025-07-02T02:26:58.912996Z"
    }
   },
   "outputs": [],
   "source": []
  },
  {
   "cell_type": "code",
   "execution_count": 215,
   "id": "a4d17ad0357ac669",
   "metadata": {
    "ExecuteTime": {
     "end_time": "2025-07-03T04:14:08.081073Z",
     "start_time": "2025-07-03T04:14:08.077163Z"
    }
   },
   "outputs": [],
   "source": []
  },
  {
   "cell_type": "code",
   "execution_count": null,
   "id": "496b214ba590aa7",
   "metadata": {
    "ExecuteTime": {
     "end_time": "2025-07-03T04:14:10.261573Z",
     "start_time": "2025-07-03T04:14:10.254609Z"
    }
   },
   "outputs": [],
   "source": [
    "evaluator = ProductExtractionEvaluator()\n",
    "batch_results = evaluator.evaluate_batch(evaluations)"
   ]
  },
  {
   "cell_type": "markdown",
   "id": "a33100c55eabc068",
   "metadata": {},
   "source": [
    "# Generate Specbook"
   ]
  },
  {
   "cell_type": "code",
   "execution_count": 81,
   "id": "425d024ea0fb582c",
   "metadata": {
    "ExecuteTime": {
     "end_time": "2025-06-27T05:32:17.683639Z",
     "start_time": "2025-06-27T05:32:17.677734Z"
    }
   },
   "outputs": [],
   "source": [
    "fieldnames = ['image_url', 'type', 'description', 'model_no']\n",
    "\n",
    "with open('01_llmpipeline/5-specbook.csv', 'w', newline='') as csvfile:\n",
    "    writer = csv.DictWriter(csvfile, fieldnames=fieldnames)\n",
    "    writer.writeheader() # Writes the header row\n",
    "    writer.writerows(filtered_list)"
   ]
  }
 ],
 "metadata": {
  "kernelspec": {
   "display_name": "Python 3 (ipykernel)",
   "language": "python",
   "name": "python3"
  }
 },
 "nbformat": 4,
 "nbformat_minor": 5
}
