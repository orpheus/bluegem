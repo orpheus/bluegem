{
 "cells": [
  {
   "cell_type": "code",
   "execution_count": null,
   "metadata": {
    "ExecuteTime": {
     "end_time": "2025-07-07T03:49:03.239951Z",
     "start_time": "2025-07-07T03:49:00.573295Z"
    }
   },
   "outputs": [],
   "source": [
    "from lib.core.html_processor import HTMLProcessor\n",
    "from lib.core.llm import PromptTemplator\n",
    "from lib.core.llm import LLMInvocator\n",
    "from lib.core.scraping import StealthScraper\n",
    "import pandas as pd\n",
    "from concurrent.futures import ThreadPoolExecutor\n",
    "\n",
    "stealth_scraper = StealthScraper()\n",
    "html_processor = HTMLProcessor()\n",
    "prompt_templator = PromptTemplator()\n",
    "llm_invocator = LLMInvocator()"
   ]
  },
  {
   "cell_type": "code",
   "execution_count": null,
   "metadata": {},
   "outputs": [],
   "source": [
    "df = pd.read_csv(\"workspace/input/specbook.csv\")\n",
    "df['id'] = range(1, len(df) + 1)"
   ]
  },
  {
   "cell_type": "code",
   "execution_count": null,
   "metadata": {},
   "outputs": [],
   "source": [
    "product_scrape_results = []\n",
    "with ThreadPoolExecutor(max_workers=10) as executor:\n",
    "    for id, product_search_result in zip(df['id'], executor.map(stealth_scraper.scrape_url, df['product_url'].to_list())):\n",
    "        product_scrape_results.append({\n",
    "            'id': id,\n",
    "            'product_url': product_search_result.url,\n",
    "            'success': product_search_result.success,\n",
    "            'content_length': len(product_search_result.content) if product_search_result.content else 0,\n",
    "            'status_code': product_search_result.status_code,\n",
    "            'final_method': product_search_result.final_method,\n",
    "            'error_reason': product_search_result.error_reason,\n",
    "            'page_issues': product_search_result.page_issues,\n",
    "            'html_content': product_search_result.content,\n",
    "            'full_result': product_search_result.model_dump_json()\n",
    "        })\n",
    "product_scrape_results_df = pd.DataFrame(product_scrape_results)"
   ]
  },
  {
   "cell_type": "code",
   "execution_count": null,
   "metadata": {},
   "outputs": [],
   "source": [
    "product_scrape_results_df.value_counts(['success', 'status_code', 'final_method'])"
   ]
  },
  {
   "cell_type": "markdown",
   "metadata": {},
   "source": []
  },
  {
   "cell_type": "code",
   "execution_count": null,
   "metadata": {},
   "outputs": [],
   "source": [
    "product_scrape_results_df = df.merge(product_scrape_results_df, on='id', how='left') \\\n",
    "    .drop(columns=['product_url_y']) \\\n",
    "    .rename(columns={'product_url_x': 'product_url'})\n",
    "\n",
    "# product_results_df.drop(columns=['html_content', 'full_result']).to_csv(\"../output/1-specbook_scrape_results.csv\", index=False)\n",
    "# product_results_df[['id', 'product_url', 'full_result']].to_csv(\"../output/1-specbook_scrape_content.csv\", index=False)\n",
    "# product_results_df.to_csv(\"../output/1-specbook_scrape.csv\", index=False)\n",
    "# product_results_df = pd.read_csv(\"../output/1-specbook_scrape.csv\")"
   ]
  },
  {
   "cell_type": "code",
   "execution_count": null,
   "metadata": {},
   "outputs": [],
   "source": [
    "product_scrape_results_df_success = product_scrape_results_df[product_scrape_results_df['success'] == True]\n",
    "product_prompts_df = product_scrape_results_df.copy()\n",
    "\n",
    "for id, product_url, html_content in zip(product_scrape_results_df_success['id'], product_scrape_results_df_success['product_url'], product_scrape_results_df_success['html_content']):\n",
    "    cleaned_html = html_processor.clean_html(str(html_content))\n",
    "    cleaned_html_json = cleaned_html.model_dump_json()\n",
    "    prompt = prompt_templator.product_extraction(product_url, cleaned_html_json)\n",
    "    \n",
    "    # Add fields dynamically using loc\n",
    "    product_prompts_df.loc[product_prompts_df['id'] == id, 'cleaned_html'] = cleaned_html_json\n",
    "    product_prompts_df.loc[product_prompts_df['id'] == id, 'cleaned_html_len'] = len(cleaned_html_json)\n",
    "\n",
    "    product_prompts_df.loc[product_prompts_df['id'] == id, 'prompt'] = prompt\n",
    "    product_prompts_df.loc[product_prompts_df['id'] == id, 'prompt_len'] = len(prompt)"
   ]
  },
  {
   "cell_type": "code",
   "execution_count": 5,
   "metadata": {},
   "outputs": [],
   "source": [
    "# final_df.to_csv(\"../output/specbook_scrape_results.csv\", index=False)\n",
    "product_prompts_df = pd.read_csv(\"workspace/output/llm_results_monitored.csv\")"
   ]
  },
  {
   "cell_type": "code",
   "execution_count": 15,
   "metadata": {},
   "outputs": [
    {
     "data": {
      "text/plain": [
       "35    https://www.us.kohler.com/us/purist-single-han...\n",
       "Name: product_url, dtype: object"
      ]
     },
     "execution_count": 15,
     "metadata": {},
     "output_type": "execute_result"
    }
   ],
   "source": [
    "product_prompts_df[product_prompts_df['id'] == 36]['product_url']"
   ]
  },
  {
   "cell_type": "code",
   "execution_count": null,
   "metadata": {},
   "outputs": [],
   "source": [
    "llm_results_df = product_prompts_df.copy()"
   ]
  },
  {
   "cell_type": "code",
   "execution_count": null,
   "metadata": {},
   "outputs": [],
   "source": [
    "llm_results_df['prompt_len'].sum()"
   ]
  },
  {
   "cell_type": "code",
   "execution_count": null,
   "metadata": {},
   "outputs": [],
   "source": [
    "for id, success, prompt in zip(llm_results_df['id'], llm_results_df['success'], llm_results_df['prompt']):\n",
    "    default_response = PromptTemplator.ProductExtractionOutput(\n",
    "            image_url=\"\",\n",
    "            type=\"\",\n",
    "            description=\"\",\n",
    "            model_no=\"\",\n",
    "            product_link=\"\",\n",
    "            qty=\"\",\n",
    "            key=\"\",\n",
    "        )\n",
    "\n",
    "    if success == True:\n",
    "        try:\n",
    "            llm_response = llm_invocator.invoke_llm(\n",
    "                model_provider=\"openai\",\n",
    "                llm_model_name=\"gpt-4o-mini\",\n",
    "                prompt=prompt\n",
    "            )\n",
    "        except Exception as e:\n",
    "            print(f\"Error invoking LLM: {e}\")\n",
    "            default_response.description = f\"Error invoking LLM: {e}\"\n",
    "\n",
    "        try:\n",
    "            default_response = PromptTemplator.ProductExtractionOutput.model_validate_json(llm_response)\n",
    "        except Exception as e:\n",
    "            print(f\"Error validating response: {e}\")\n",
    "            default_response.description = \"Error validating response\"\n",
    "\n",
    "    llm_results_df.loc[llm_results_df['id'] == id, 'llm_response'] = default_response.model_dump_json()"
   ]
  },
  {
   "cell_type": "code",
   "execution_count": null,
   "metadata": {},
   "outputs": [],
   "source": [
    "llm_results_df.count()"
   ]
  },
  {
   "cell_type": "code",
   "execution_count": null,
   "metadata": {},
   "outputs": [],
   "source": [
    "llm_results_df.to_csv(\"../output/llm_results.csv\", index=False)"
   ]
  },
  {
   "cell_type": "code",
   "execution_count": null,
   "metadata": {},
   "outputs": [],
   "source": [
    "total_prompt_len = llm_results_df['prompt_len'].sum()\n",
    "print(f\"Total prompt length: {total_prompt_len:,}\")\n"
   ]
  },
  {
   "cell_type": "code",
   "execution_count": null,
   "metadata": {},
   "outputs": [],
   "source": [
    "llm_results_df.count()"
   ]
  },
  {
   "cell_type": "code",
   "execution_count": null,
   "metadata": {},
   "outputs": [],
   "source": [
    "llm_result_dicts = [dict(PromptTemplator.ProductExtractionOutput.model_validate_json(response)) for response in llm_results_df['llm_response'].to_list()]\n",
    "product_specs_df = pd.DataFrame(llm_result_dicts)"
   ]
  },
  {
   "cell_type": "code",
   "execution_count": null,
   "metadata": {},
   "outputs": [],
   "source": [
    "product_specs_df.to_csv(\"../output/product_specs.csv\", index=False)"
   ]
  }
 ],
 "metadata": {
  "kernelspec": {
   "display_name": "Python 3 (ipykernel)",
   "language": "python",
   "name": "python3"
  },
  "language_info": {
   "codemirror_mode": {
    "name": "ipython",
    "version": 3
   },
   "file_extension": ".py",
   "mimetype": "text/x-python",
   "name": "python",
   "nbconvert_exporter": "python",
   "pygments_lexer": "ipython3",
   "version": "3.11.13"
  }
 },
 "nbformat": 4,
 "nbformat_minor": 2
}
